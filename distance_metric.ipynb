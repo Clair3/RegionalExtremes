{
 "cells": [
  {
   "cell_type": "code",
   "execution_count": 2,
   "metadata": {},
   "outputs": [],
   "source": [
    "import numpy as np\n",
    "from scipy.stats import norm, entropy, wasserstein_distance"
   ]
  },
  {
   "cell_type": "code",
   "execution_count": 59,
   "metadata": {},
   "outputs": [
    {
     "name": "stdout",
     "output_type": "stream",
     "text": [
      "KL Divergence (N1 || N2): 0.1277\n",
      "Wasserstein Distance: 0.4343\n"
     ]
    }
   ],
   "source": [
    "\n",
    "# Define parameters\n",
    "mu1, sigma1 = 0, 1\n",
    "mu2, sigma2 = 0, 1.5\n",
    "\n",
    "# KL Divergence between N1 and N2 (closed form for Gaussians)\n",
    "# KL(N1 || N2)\n",
    "kl_div = np.log(sigma2 / sigma1) + (sigma1**2 + (mu1 - mu2)**2) / (2 * sigma2**2) - 0.5\n",
    "\n",
    "# Sample points for Wasserstein Distance\n",
    "samples1 = np.random.normal(mu1, sigma1, 1000)\n",
    "samples2 = np.random.normal(mu2, sigma2, 1000)\n",
    "\n",
    "# Wasserstein distance (1D)\n",
    "w_dist = wasserstein_distance(samples1, samples2)\n",
    "\n",
    "# Output results\n",
    "print(f\"KL Divergence (N1 || N2): {kl_div:.4f}\")\n",
    "print(f\"Wasserstein Distance: {w_dist:.4f}\")"
   ]
  },
  {
   "cell_type": "code",
   "execution_count": 60,
   "metadata": {},
   "outputs": [
    {
     "data": {
      "text/plain": [
       "<function matplotlib.pyplot.show(close=None, block=None)>"
      ]
     },
     "execution_count": 60,
     "metadata": {},
     "output_type": "execute_result"
    },
    {
     "data": {
      "image/png": "[encoded data removed]",
      "text/plain": [
       "<Figure size 640x480 with 1 Axes>"
      ]
     },
     "metadata": {},
     "output_type": "display_data"
    }
   ],
   "source": [
    "import matplotlib.pyplot as plt\n",
    "plt.hist(samples2, bins=100, color=\"red\")\n",
    "plt.hist(samples1, bins=100, color=\"black\")\n",
    "plt.show"
   ]
  },
  {
   "cell_type": "code",
   "execution_count": null,
   "metadata": {},
   "outputs": [],
   "source": []
  },
  {
   "cell_type": "code",
   "execution_count": 4,
   "metadata": {},
   "outputs": [
    {
     "data": {
      "text/plain": [
       "array([ 0.58840068, -0.45364759, -0.82995496, ..., -0.10594143,\n",
       "       -0.50003768, -0.70481669])"
      ]
     },
     "execution_count": 4,
     "metadata": {},
     "output_type": "execute_result"
    }
   ],
   "source": [
    "samples1"
   ]
  }
 ],
 "metadata": {
  "kernelspec": {
   "display_name": "ExtremesEnv2",
   "language": "python",
   "name": "python3"
  },
  "language_info": {
   "codemirror_mode": {
    "name": "ipython",
    "version": 3
   },
   "file_extension": ".py",
   "mimetype": "text/x-python",
   "name": "python",
   "nbconvert_exporter": "python",
   "pygments_lexer": "ipython3",
   "version": "3.12.2"
  }
 },
 "nbformat": 4,
 "nbformat_minor": 2
}
