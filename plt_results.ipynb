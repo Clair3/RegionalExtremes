{
 "cells": [
  {
   "cell_type": "code",
   "execution_count": 4,
   "metadata": {},
   "outputs": [],
   "source": [
    "import xarray as xr\n",
    "import numpy as np\n",
    "import matplotlib\n",
    "import datetime\n",
    "\n",
    "import matplotlib.pyplot as plt\n",
    "from matplotlib.widgets import Slider\n",
    "import cartopy\n",
    "import random\n",
    "\n",
    "from config import InitializationConfig\n",
    "from loader_and_saver import Loader, Saver\n",
    "from regional_extremes import parser_arguments\n",
    "from utils import printt\n",
    "from datahandler import create_handler"
   ]
  },
  {
   "cell_type": "code",
   "execution_count": 6,
   "metadata": {},
   "outputs": [
    {
     "name": "stderr",
     "output_type": "stream",
     "text": [
      "usage: ipykernel_launcher.py [-h] [--id ID] [--name NAME] [--index INDEX]\n",
      "                             [--compute_variance COMPUTE_VARIANCE]\n",
      "                             [--region REGION]\n",
      "                             [--time_resolution TIME_RESOLUTION]\n",
      "                             [--n_components N_COMPONENTS]\n",
      "                             [--n_samples N_SAMPLES] [--n_bins N_BINS]\n",
      "                             [--kernel_pca KERNEL_PCA]\n",
      "                             [--saving_path SAVING_PATH]\n",
      "                             [--path_load_experiment PATH_LOAD_EXPERIMENT]\n",
      "                             [--method METHOD]\n",
      "ipykernel_launcher.py: error: unrecognized arguments: --f=/User/homes/crobin/.local/share/jupyter/runtime/kernel-v3d0e910e93d9a225b9f04936b64bfdc77ca38b817.json\n"
     ]
    },
    {
     "ename": "SystemExit",
     "evalue": "2",
     "output_type": "error",
     "traceback": [
      "An exception has occurred, use %tb to see the full traceback.\n",
      "\u001b[0;31mSystemExit\u001b[0m\u001b[0;31m:\u001b[0m 2\n"
     ]
    },
    {
     "name": "stderr",
     "output_type": "stream",
     "text": [
      "/Net/Groups/BGI/scratch/crobin/miniconda3/envs/ExtremesEnv2/lib/python3.12/site-packages/IPython/core/interactiveshell.py:3585: UserWarning: To exit: use 'exit', 'quit', or Ctrl-D.\n",
      "  warn(\"To exit: use 'exit', 'quit', or Ctrl-D.\", stacklevel=1)\n"
     ]
    }
   ],
   "source": [
    "args = parser_arguments().parse_args()\n",
    "args.path_load_experiment = \"/Net/Groups/BGI/scratch/crobin/PythonProjects/ExtremesProject/experiments/2024-10-01_14:52:57_eco_threshold_2000\"\n",
    "config = InitializationConfig(args)\n",
    "plot = PlotExtremes(config=config)"
   ]
  },
  {
   "cell_type": "code",
   "execution_count": 3,
   "metadata": {},
   "outputs": [
    {
     "ename": "TypeError",
     "evalue": "Loader._load_extremes() missing 1 required positional argument: 'self'",
     "output_type": "error",
     "traceback": [
      "\u001b[0;31m---------------------------------------------------------------------------\u001b[0m",
      "\u001b[0;31mTypeError\u001b[0m                                 Traceback (most recent call last)",
      "Cell \u001b[0;32mIn[3], line 1\u001b[0m\n\u001b[0;32m----> 1\u001b[0m extremes \u001b[38;5;241m=\u001b[39m \u001b[43mloader\u001b[49m\u001b[38;5;241;43m.\u001b[39;49m\u001b[43m_load_extremes\u001b[49m\u001b[43m(\u001b[49m\u001b[43m)\u001b[49m\n",
      "\u001b[0;31mTypeError\u001b[0m: Loader._load_extremes() missing 1 required positional argument: 'self'"
     ]
    }
   ],
   "source": [
    "extremes = loader._load_extremes()"
   ]
  },
  {
   "cell_type": "code",
   "execution_count": null,
   "metadata": {},
   "outputs": [],
   "source": [
    "extremes = Loader\n",
    "data[\"dayofyear\"] = data.time.dt.dayofyear\n",
    "msc = dataset_processor.preprocess_data().msc\n",
    "msc = msc.sel(dayofyear=data.dayofyear)\n",
    "data = data - msc\n",
    "# Set up the map projection\n",
    "projection = cartopy.crs.PlateCarree()\n",
    "for month in range(5, 9):\n",
    "    if month < 10:\n",
    "        data_day = data.sel(time=f\"2018-0{month}-15T12:00:00.000000000\")\n",
    "    else:\n",
    "        data_day = data.sel(time=f\"2018-{month}-15T12:00:00.000000000\")\n",
    "    # Create the figure and axes\n",
    "    fig, ax = plt.subplots(\n",
    "        figsize=(12, 5),\n",
    "        subplot_kw={\"projection\": projection},\n",
    "    )\n",
    "    # adjust the plot\n",
    "    plt.subplots_adjust(left=0.05, right=0.95, top=0.95, bottom=0.05)\n",
    "    # Add coastlines and set global extent\n",
    "    ax.coastlines()\n",
    "    # ax.add_feature(cartopy.feature.OCEAN, zorder=100, edgecolor=\"k\")\n",
    "    # Plot the RGB data\n",
    "    img_extent = (\n",
    "        data_day.longitude.min(),\n",
    "        data_day.longitude.max(),\n",
    "        data_day.latitude.min(),\n",
    "        data_day.latitude.max(),\n",
    "    )\n",
    "    ax.set_extent(img_extent, crs=projection)\n",
    "    im = ax.pcolormesh(\n",
    "        data_day.longitude.values,\n",
    "        data_day.latitude.values,\n",
    "        data_day.values,\n",
    "        transform=projection,\n",
    "        cmap=\"viridis\",\n",
    "        vmin=-0.15,\n",
    "        vmax=0.15,\n",
    "    )\n",
    "    # Add a colorbar\n",
    "    cbar = plt.colorbar(im, ax=ax, orientation=\"vertical\", pad=0.08)\n",
    "    cbar.set_label(f\"{self.config.index} Anomaly (EVI - MSC)\")\n",
    "    # Add a title\n",
    "    title = ax.set_title(f\"Modis data - Month {month}\")\n",
    "    map_saving_path = (\n",
    "        self.saving_path / f\"modis_2018/map_anomaly_medsc_{month}.png\"\n",
    "    )\n",
    "    plt.savefig(map_saving_path)\n",
    "    printt(\"Plot saved\")\n",
    "    # Show the plot\n",
    "    # plt.show()"
   ]
  }
 ],
 "metadata": {
  "kernelspec": {
   "display_name": "ExtremesEnv2",
   "language": "python",
   "name": "python3"
  },
  "language_info": {
   "codemirror_mode": {
    "name": "ipython",
    "version": 3
   },
   "file_extension": ".py",
   "mimetype": "text/x-python",
   "name": "python",
   "nbconvert_exporter": "python",
   "pygments_lexer": "ipython3",
   "version": "3.12.4"
  }
 },
 "nbformat": 4,
 "nbformat_minor": 2
}
