{
 "cells": [
  {
   "cell_type": "code",
   "execution_count": 1,
   "metadata": {},
   "outputs": [],
   "source": [
    "import xarray as xr\n",
    "import numpy as np\n",
    "import matplotlib\n",
    "import datetime\n",
    "\n",
    "import matplotlib.pyplot as plt\n",
    "from matplotlib.widgets import Slider\n",
    "import cartopy\n",
    "import random\n",
    "\n",
    "from config import InitializationConfig\n",
    "from loader_and_saver import Loader, Saver\n",
    "from regional_extremes import parser_arguments\n",
    "from utils import printt\n",
    "from datahandler import create_handler"
   ]
  },
  {
   "cell_type": "code",
   "execution_count": null,
   "metadata": {},
   "outputs": [],
   "source": [
    "extremes = Loader\n",
    "data[\"dayofyear\"] = data.time.dt.dayofyear\n",
    "msc = dataset_processor.preprocess_data().msc\n",
    "msc = msc.sel(dayofyear=data.dayofyear)\n",
    "data = data - msc\n",
    "# Set up the map projection\n",
    "projection = cartopy.crs.PlateCarree()\n",
    "for month in range(5, 9):\n",
    "    if month < 10:\n",
    "        data_day = data.sel(time=f\"2018-0{month}-15T12:00:00.000000000\")\n",
    "    else:\n",
    "        data_day = data.sel(time=f\"2018-{month}-15T12:00:00.000000000\")\n",
    "    # Create the figure and axes\n",
    "    fig, ax = plt.subplots(\n",
    "        figsize=(12, 5),\n",
    "        subplot_kw={\"projection\": projection},\n",
    "    )\n",
    "    # adjust the plot\n",
    "    plt.subplots_adjust(left=0.05, right=0.95, top=0.95, bottom=0.05)\n",
    "    # Add coastlines and set global extent\n",
    "    ax.coastlines()\n",
    "    # ax.add_feature(cartopy.feature.OCEAN, zorder=100, edgecolor=\"k\")\n",
    "    # Plot the RGB data\n",
    "    img_extent = (\n",
    "        data_day.longitude.min(),\n",
    "        data_day.longitude.max(),\n",
    "        data_day.latitude.min(),\n",
    "        data_day.latitude.max(),\n",
    "    )\n",
    "    ax.set_extent(img_extent, crs=projection)\n",
    "    im = ax.pcolormesh(\n",
    "        data_day.longitude.values,\n",
    "        data_day.latitude.values,\n",
    "        data_day.values,\n",
    "        transform=projection,\n",
    "        cmap=\"viridis\",\n",
    "        vmin=-0.15,\n",
    "        vmax=0.15,\n",
    "    )\n",
    "    # Add a colorbar\n",
    "    cbar = plt.colorbar(im, ax=ax, orientation=\"vertical\", pad=0.08)\n",
    "    cbar.set_label(f\"{self.config.index} Anomaly (EVI - MSC)\")\n",
    "    # Add a title\n",
    "    title = ax.set_title(f\"Modis data - Month {month}\")\n",
    "    map_saving_path = (\n",
    "        self.saving_path / f\"modis_2018/map_anomaly_medsc_{month}.png\"\n",
    "    )\n",
    "    plt.savefig(map_saving_path)\n",
    "    printt(\"Plot saved\")\n",
    "    # Show the plot\n",
    "    # plt.show()"
   ]
  }
 ],
 "metadata": {
  "kernelspec": {
   "display_name": "ExtremesEnv2",
   "language": "python",
   "name": "python3"
  },
  "language_info": {
   "codemirror_mode": {
    "name": "ipython",
    "version": 3
   },
   "file_extension": ".py",
   "mimetype": "text/x-python",
   "name": "python",
   "nbconvert_exporter": "python",
   "pygments_lexer": "ipython3",
   "version": "3.12.4"
  }
 },
 "nbformat": 4,
 "nbformat_minor": 2
}
