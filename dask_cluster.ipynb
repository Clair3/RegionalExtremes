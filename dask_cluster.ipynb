{
 "cells": [
  {
   "cell_type": "code",
   "execution_count": 1,
   "metadata": {},
   "outputs": [],
   "source": [
    "import sys\n",
    "sys.path.append('/Net/Groups/BGI/scratch/crobin/PythonProjects/ExtremesProject/RegionalExtremesPackage')\n",
    "\n",
    "from main import parser_arguments, regional_extremes_method, local_extremes_method, regional_extremes_minicube"
   ]
  },
  {
   "cell_type": "code",
   "execution_count": 2,
   "metadata": {},
   "outputs": [],
   "source": [
    "import numpy as np\n",
    "from dask_jobqueue import SLURMCluster\n",
    "from dask.distributed import Client as daskClient"
   ]
  },
  {
   "cell_type": "code",
   "execution_count": 3,
   "metadata": {},
   "outputs": [
    {
     "name": "stderr",
     "output_type": "stream",
     "text": [
      "/Net/Groups/BGI/scratch/crobin/miniconda3/envs/ExtremesEnv2/lib/python3.12/site-packages/distributed/node.py:187: UserWarning: Port 8787 is already in use.\n",
      "Perhaps you already have a cluster running?\n",
      "Hosting the HTTP server on port 36011 instead\n",
      "  warnings.warn(\n"
     ]
    },
    {
     "data": {
      "text/html": [
       "<div class=\"jp-RenderedHTMLCommon jp-RenderedHTML jp-mod-trusted jp-OutputArea-output\">\n",
       "    <div style=\"width: 24px; height: 24px; background-color: #e1e1e1; border: 3px solid #9D9D9D; border-radius: 5px; position: absolute;\">\n",
       "    </div>\n",
       "    <div style=\"margin-left: 48px;\">\n",
       "        <h3 style=\"margin-bottom: 0px; margin-top: 0px;\">SLURMCluster</h3>\n",
       "        <p style=\"color: #9D9D9D; margin-bottom: 0px;\">4ee60d41</p>\n",
       "        <table style=\"width: 100%; text-align: left;\">\n",
       "            <tr>\n",
       "                <td style=\"text-align: left;\">\n",
       "                    <strong>Dashboard:</strong> <a href=\"http://10.0.30.56:36011/status\" target=\"_blank\">http://10.0.30.56:36011/status</a>\n",
       "                </td>\n",
       "                <td style=\"text-align: left;\">\n",
       "                    <strong>Workers:</strong> 0\n",
       "                </td>\n",
       "            </tr>\n",
       "            <tr>\n",
       "                <td style=\"text-align: left;\">\n",
       "                    <strong>Total threads:</strong> 0\n",
       "                </td>\n",
       "                <td style=\"text-align: left;\">\n",
       "                    <strong>Total memory:</strong> 0 B\n",
       "                </td>\n",
       "            </tr>\n",
       "            \n",
       "        </table>\n",
       "\n",
       "        <details>\n",
       "            <summary style=\"margin-bottom: 20px;\">\n",
       "                <h3 style=\"display: inline;\">Scheduler Info</h3>\n",
       "            </summary>\n",
       "\n",
       "            <div style=\"\">\n",
       "    <div>\n",
       "        <div style=\"width: 24px; height: 24px; background-color: #FFF7E5; border: 3px solid #FF6132; border-radius: 5px; position: absolute;\"> </div>\n",
       "        <div style=\"margin-left: 48px;\">\n",
       "            <h3 style=\"margin-bottom: 0px;\">Scheduler</h3>\n",
       "            <p style=\"color: #9D9D9D; margin-bottom: 0px;\">Scheduler-3766fcd8-359d-4f95-a860-700ee3d453e4</p>\n",
       "            <table style=\"width: 100%; text-align: left;\">\n",
       "                <tr>\n",
       "                    <td style=\"text-align: left;\">\n",
       "                        <strong>Comm:</strong> tcp://10.0.30.56:44191\n",
       "                    </td>\n",
       "                    <td style=\"text-align: left;\">\n",
       "                        <strong>Workers:</strong> 0\n",
       "                    </td>\n",
       "                </tr>\n",
       "                <tr>\n",
       "                    <td style=\"text-align: left;\">\n",
       "                        <strong>Dashboard:</strong> <a href=\"http://10.0.30.56:36011/status\" target=\"_blank\">http://10.0.30.56:36011/status</a>\n",
       "                    </td>\n",
       "                    <td style=\"text-align: left;\">\n",
       "                        <strong>Total threads:</strong> 0\n",
       "                    </td>\n",
       "                </tr>\n",
       "                <tr>\n",
       "                    <td style=\"text-align: left;\">\n",
       "                        <strong>Started:</strong> Just now\n",
       "                    </td>\n",
       "                    <td style=\"text-align: left;\">\n",
       "                        <strong>Total memory:</strong> 0 B\n",
       "                    </td>\n",
       "                </tr>\n",
       "            </table>\n",
       "        </div>\n",
       "    </div>\n",
       "\n",
       "    <details style=\"margin-left: 48px;\">\n",
       "        <summary style=\"margin-bottom: 20px;\">\n",
       "            <h3 style=\"display: inline;\">Workers</h3>\n",
       "        </summary>\n",
       "\n",
       "        \n",
       "\n",
       "    </details>\n",
       "</div>\n",
       "\n",
       "        </details>\n",
       "    </div>\n",
       "</div>"
      ],
      "text/plain": [
       "SLURMCluster(4ee60d41, 'tcp://10.0.30.56:44191', workers=0, threads=0, memory=0 B)"
      ]
     },
     "metadata": {},
     "output_type": "display_data"
    }
   ],
   "source": [
    "# Set distributed scheduler as default\n",
    "import dask\n",
    "dask.config.set(scheduler='distributed')\n",
    "\n",
    "cluster = SLURMCluster(\n",
    "    queue='work',                  # Specify the SLURM queue\n",
    "    processes=1,                     # Number of processes per job\n",
    "    cores=1,                          # Number of cores per job\n",
    "    memory='50GB',                    # Memory per job\n",
    "    walltime='15:00:00',              # Job duration (hh:mm:ss)\n",
    "    job_script_prologue=[\n",
    "        'module load BGC-easybuilded',\n",
    "        'module load  GCC',\n",
    "    ]\n",
    ")\n",
    "\n",
    "# Scale up the number of workers\n",
    "#cluster.scale(jobs=20)  # Adjust the number of jobs/workers\n",
    "cluster.adapt(minimum=0, maximum=30)\n",
    "\n",
    "# Create a Dask client that connects to the cluster\n",
    "client = daskClient(cluster)\n",
    "\n",
    "# Check cluster status\n",
    "cluster"
   ]
  },
  {
   "cell_type": "code",
   "execution_count": 4,
   "metadata": {},
   "outputs": [
    {
     "data": {
      "text/plain": [
       "Namespace(id=None, name=None, index='pei_180', compute_variance=False, region='globe', time_resolution=5, n_components=3, n_samples=100, n_eco_clusters=25, kernel_pca=False, saving_path=None, path_load_experiment=None, method='regional')"
      ]
     },
     "execution_count": 4,
     "metadata": {},
     "output_type": "execute_result"
    }
   ],
   "source": [
    "import sys\n",
    "import argparse\n",
    "\n",
    "# Remove Jupyter's arguments before parsing your own\n",
    "sys.argv = sys.argv[:1]\n",
    "\n",
    "\n",
    "args = parser_arguments().parse_args()\n",
    "args"
   ]
  },
  {
   "cell_type": "code",
   "execution_count": 5,
   "metadata": {},
   "outputs": [
    {
     "name": "stdout",
     "output_type": "stream",
     "text": [
      "[2025-01-16 12:19:12] Initialisation of a new model, no path provided for an existing model.\n",
      "[2025-01-16 12:19:12] The saving path is: /Net/Groups/BGI/scratch/crobin/PythonProjects/ExtremesProject/experiments/2025-01-16_12:19:12_deep_extreme_global/EVI_EN\n",
      "[2025-01-16 12:19:12] args saved, path: /Net/Groups/BGI/scratch/crobin/PythonProjects/ExtremesProject/experiments/2025-01-16_12:19:12_deep_extreme_global/EVI_EN/args.json\n",
      "[2025-01-16 12:19:12] start of the preprocess\n",
      "[2025-01-16 12:19:12] Data not found at /Net/Groups/BGI/scratch/crobin/PythonProjects/ExtremesProject/experiments/2025-01-16_12:19:12_deep_extreme_global/EVI_EN/temp_file.zarr\n",
      "count: 20000\n",
      "[2025-01-16 12:19:12] Loading dataset...\n"
     ]
    },
    {
     "name": "stderr",
     "output_type": "stream",
     "text": [
      "/Net/Groups/BGI/scratch/crobin/miniconda3/envs/ExtremesEnv2/lib/python3.12/site-packages/dask/base.py:1103: UserWarning: Running on a single-machine scheduler when a distributed client is active might lead to unexpected results.\n",
      "  warnings.warn(\n"
     ]
    },
    {
     "name": "stdout",
     "output_type": "stream",
     "text": [
      "[########################################] | 100% Completed | 11m 4ss\n"
     ]
    },
    {
     "name": "stderr",
     "output_type": "stream",
     "text": [
      "/Net/Groups/BGI/scratch/crobin/miniconda3/envs/ExtremesEnv2/lib/python3.12/site-packages/distributed/client.py:3371: UserWarning: Sending large graph of size 777.96 MiB.\n",
      "This may cause some slowdown.\n",
      "Consider loading the data with Dask directly\n",
      " or using futures or delayed objects to embed the data into the graph without repetition.\n",
      "See also https://docs.dask.org/en/stable/best-practices.html#load-data-with-dask for more information.\n",
      "  warnings.warn(\n"
     ]
    },
    {
     "name": "stdout",
     "output_type": "stream",
     "text": [
      "[2025-01-16 12:53:43] temp_file computed and saved.\n",
      "[2025-01-16 12:53:47] temp_file.zarr loaded.\n",
      "[2025-01-16 12:53:47] Dataset loaded.\n",
      "<xarray.Dataset> Size: 43MB\n",
      "Dimensions:       (location: 10707, time: 495)\n",
      "Coordinates:\n",
      "  * time          (time) datetime64[ns] 4kB 2016-01-03T12:00:00 ... 2022-10-0...\n",
      "  * location      (location) object 86kB MultiIndex\n",
      "  * longitude     (location) float64 86kB 25.62 26.15 24.55 ... 19.0 26.5 16.94\n",
      "  * latitude      (location) float64 86kB 44.3 46.22 44.88 ... 45.84 45.97 40.49\n",
      "Data variables:\n",
      "    evi_earthnet  (time, location) float64 42MB dask.array<chunksize=(495, 450), meta=np.ndarray>\n",
      "    landcover     (location) uint8 11kB dask.array<chunksize=(10707,), meta=np.ndarray>\n",
      "    spatial_ref   int64 8B ...\n",
      "[2025-01-16 12:54:13] landcover computed and saved.\n",
      "[2025-01-16 12:54:13] Computation on the entire dataset. 10707 samples\n"
     ]
    },
    {
     "name": "stderr",
     "output_type": "stream",
     "text": [
      "/Net/Groups/BGI/scratch/crobin/miniconda3/envs/ExtremesEnv2/lib/python3.12/site-packages/distributed/client.py:3371: UserWarning: Sending large graph of size 233.56 MiB.\n",
      "This may cause some slowdown.\n",
      "Consider loading the data with Dask directly\n",
      " or using futures or delayed objects to embed the data into the graph without repetition.\n",
      "See also https://docs.dask.org/en/stable/best-practices.html#load-data-with-dask for more information.\n",
      "  warnings.warn(\n"
     ]
    },
    {
     "name": "stdout",
     "output_type": "stream",
     "text": [
      "[2025-01-16 13:15:18] msc computed and saved.\n",
      "[2025-01-16 13:15:18] PCA performed. Sum of explained variance: 0.9260442085353605.Explained variance ratio: [0.6491786  0.23729551 0.0395701 ].\n",
      "[2025-01-16 13:15:18] PCA saved: /Net/Groups/BGI/scratch/crobin/PythonProjects/ExtremesProject/experiments/2025-01-16_12:19:12_deep_extreme_global/EVI_EN/pca_matrix.pkl\n",
      "[2025-01-16 13:15:18] start of the preprocess\n",
      "[2025-01-16 13:15:18] temp_file.zarr loaded.\n",
      "<xarray.Dataset> Size: 43MB\n",
      "Dimensions:       (location: 10707, time: 495)\n",
      "Coordinates:\n",
      "  * time          (time) datetime64[ns] 4kB 2016-01-03T12:00:00 ... 2022-10-0...\n",
      "  * location      (location) object 86kB MultiIndex\n",
      "  * longitude     (location) float64 86kB 25.62 26.15 24.55 ... 19.0 26.5 16.94\n",
      "  * latitude      (location) float64 86kB 44.3 46.22 44.88 ... 45.84 45.97 40.49\n",
      "Data variables:\n",
      "    evi_earthnet  (time, location) float64 42MB dask.array<chunksize=(495, 450), meta=np.ndarray>\n",
      "    landcover     (location) uint8 11kB dask.array<chunksize=(10707,), meta=np.ndarray>\n",
      "    spatial_ref   int64 8B ...\n",
      "[2025-01-16 13:15:18] landcover computed and saved.\n",
      "[2025-01-16 13:15:18] Computation on the entire dataset. 10707 samples\n"
     ]
    },
    {
     "name": "stderr",
     "output_type": "stream",
     "text": [
      "/Net/Groups/BGI/scratch/crobin/miniconda3/envs/ExtremesEnv2/lib/python3.12/site-packages/distributed/client.py:3371: UserWarning: Sending large graph of size 233.56 MiB.\n",
      "This may cause some slowdown.\n",
      "Consider loading the data with Dask directly\n",
      " or using futures or delayed objects to embed the data into the graph without repetition.\n",
      "See also https://docs.dask.org/en/stable/best-practices.html#load-data-with-dask for more information.\n",
      "  warnings.warn(\n"
     ]
    },
    {
     "name": "stdout",
     "output_type": "stream",
     "text": [
      "[2025-01-16 13:34:34] msc computed and saved.\n",
      "[2025-01-16 13:34:34] Data are projected in the feature space.\n",
      "[2025-01-16 13:34:34] PCA Projection computed and saved to /Net/Groups/BGI/scratch/crobin/PythonProjects/ExtremesProject/experiments/2025-01-16_12:19:12_deep_extreme_global/EVI_EN/pca_projection_0.zarr.\n",
      "[2025-01-16 13:34:34] Limits eco_clusters saved to /Net/Groups/BGI/scratch/crobin/PythonProjects/ExtremesProject/experiments/2025-01-16_12:19:12_deep_extreme_global/EVI_EN/limits_eco_clusters.npz\n",
      "[2025-01-16 13:34:34] Limits are computed and saved.\n",
      "[2025-01-16 13:34:34] start of the preprocess\n",
      "[2025-01-16 13:34:34] temp_file.zarr loaded.\n",
      "<xarray.Dataset> Size: 43MB\n",
      "Dimensions:       (location: 10707, time: 495)\n",
      "Coordinates:\n",
      "  * time          (time) datetime64[ns] 4kB 2016-01-03T12:00:00 ... 2022-10-0...\n",
      "  * location      (location) object 86kB MultiIndex\n",
      "  * longitude     (location) float64 86kB 25.62 26.15 24.55 ... 19.0 26.5 16.94\n",
      "  * latitude      (location) float64 86kB 44.3 46.22 44.88 ... 45.84 45.97 40.49\n",
      "Data variables:\n",
      "    evi_earthnet  (time, location) float64 42MB dask.array<chunksize=(495, 450), meta=np.ndarray>\n",
      "    landcover     (location) uint8 11kB dask.array<chunksize=(10707,), meta=np.ndarray>\n",
      "    spatial_ref   int64 8B ...\n",
      "[2025-01-16 13:34:34] landcover computed and saved.\n",
      "[2025-01-16 13:34:34] Computation on the entire dataset. 10707 samples\n"
     ]
    },
    {
     "name": "stderr",
     "output_type": "stream",
     "text": [
      "/Net/Groups/BGI/scratch/crobin/miniconda3/envs/ExtremesEnv2/lib/python3.12/site-packages/distributed/client.py:3371: UserWarning: Sending large graph of size 233.56 MiB.\n",
      "This may cause some slowdown.\n",
      "Consider loading the data with Dask directly\n",
      " or using futures or delayed objects to embed the data into the graph without repetition.\n",
      "See also https://docs.dask.org/en/stable/best-practices.html#load-data-with-dask for more information.\n",
      "  warnings.warn(\n"
     ]
    },
    {
     "name": "stdout",
     "output_type": "stream",
     "text": [
      "[2025-01-16 13:54:40] msc computed and saved.\n",
      "[2025-01-16 13:54:40] Data are projected in the feature space.\n",
      "[2025-01-16 13:54:40] PCA Projection computed and saved to /Net/Groups/BGI/scratch/crobin/PythonProjects/ExtremesProject/experiments/2025-01-16_12:19:12_deep_extreme_global/EVI_EN/pca_projection_1.zarr.\n",
      "[2025-01-16 13:54:40] eco_clusters computed and saved.\n"
     ]
    },
    {
     "name": "stderr",
     "output_type": "stream",
     "text": [
      "/Net/Groups/BGI/scratch/crobin/miniconda3/envs/ExtremesEnv2/lib/python3.12/site-packages/distributed/client.py:3371: UserWarning: Sending large graph of size 250.65 MiB.\n",
      "This may cause some slowdown.\n",
      "Consider loading the data with Dask directly\n",
      " or using futures or delayed objects to embed the data into the graph without repetition.\n",
      "See also https://docs.dask.org/en/stable/best-practices.html#load-data-with-dask for more information.\n",
      "  warnings.warn(\n"
     ]
    },
    {
     "name": "stdout",
     "output_type": "stream",
     "text": [
      "[2025-01-16 14:15:31] thresholds computed and saved.\n"
     ]
    },
    {
     "name": "stderr",
     "output_type": "stream",
     "text": [
      "/Net/Groups/BGI/scratch/crobin/miniconda3/envs/ExtremesEnv2/lib/python3.12/site-packages/distributed/client.py:3371: UserWarning: Sending large graph of size 250.48 MiB.\n",
      "This may cause some slowdown.\n",
      "Consider loading the data with Dask directly\n",
      " or using futures or delayed objects to embed the data into the graph without repetition.\n",
      "See also https://docs.dask.org/en/stable/best-practices.html#load-data-with-dask for more information.\n",
      "  warnings.warn(\n"
     ]
    },
    {
     "name": "stdout",
     "output_type": "stream",
     "text": [
      "[2025-01-16 14:30:29] thresholds_locations computed and saved.\n"
     ]
    },
    {
     "name": "stderr",
     "output_type": "stream",
     "text": [
      "/Net/Groups/BGI/scratch/crobin/miniconda3/envs/ExtremesEnv2/lib/python3.12/site-packages/distributed/client.py:3371: UserWarning: Sending large graph of size 261.52 MiB.\n",
      "This may cause some slowdown.\n",
      "Consider loading the data with Dask directly\n",
      " or using futures or delayed objects to embed the data into the graph without repetition.\n",
      "See also https://docs.dask.org/en/stable/best-practices.html#load-data-with-dask for more information.\n",
      "  warnings.warn(\n",
      "/Net/Groups/BGI/scratch/crobin/miniconda3/envs/ExtremesEnv2/lib/python3.12/site-packages/distributed/client.py:3371: UserWarning: Sending large graph of size 40.44 MiB.\n",
      "This may cause some slowdown.\n",
      "Consider loading the data with Dask directly\n",
      " or using futures or delayed objects to embed the data into the graph without repetition.\n",
      "See also https://docs.dask.org/en/stable/best-practices.html#load-data-with-dask for more information.\n",
      "  warnings.warn(\n"
     ]
    },
    {
     "name": "stdout",
     "output_type": "stream",
     "text": [
      "[2025-01-16 14:48:07] extremes computed and saved.\n"
     ]
    }
   ],
   "source": [
    "import numpy as np \n",
    "\n",
    "# Remove Jupyter's arguments before parsing your own\n",
    "sys.argv = sys.argv[:1]\n",
    "args = parser_arguments().parse_args()\n",
    "args.name = \"deep_extreme_global\"\n",
    "args.index = \"EVI_EN\"\n",
    "args.k_pca = False\n",
    "args.n_samples = 20000\n",
    "args.n_components = 3\n",
    "args.n_eco_clusters = 50\n",
    "args.compute_variance = False\n",
    "args.method = \"regional\"\n",
    "args.start_year = 2000\n",
    "args.is_generic_xarray_dataset = False\n",
    "\n",
    "# args.path_load_experiment = \"/Net/Groups/BGI/scratch/crobin/PythonProjects/ExtremesProject/experiments/2024-12-21_13:11:46_deep_extreme_global\" #/Net/Groups/BGI/scratch/crobin/PythonProjects/ExtremesProject/RegionalExtremesPackage/experiments/2024-12-20_14:38:27_deep_extreme_global/EVI_EN\"\n",
    "\n",
    "LOWER_QUANTILES_LEVEL = np.array([0.01, 0.025, 0.05])\n",
    "UPPER_QUANTILES_LEVEL = np.array([0.95, 0.975, 0.99])\n",
    "if args.method == \"regional\":\n",
    "    # Apply the regional extremes method\n",
    "    regional_extremes_method(args, (LOWER_QUANTILES_LEVEL, UPPER_QUANTILES_LEVEL))\n",
    "    # regional_extremes_minicube(args, (LOWER_QUANTILES_LEVEL, UPPER_QUANTILES_LEVEL))\n",
    "elif args.method == \"local\":\n",
    "    # Apply the uniform threshold method\n",
    "    local_extremes_method(args, (LOWER_QUANTILES_LEVEL, UPPER_QUANTILES_LEVEL))\n",
    "elif args.method == \"global\":\n",
    "    raise NotImplementedError(\"the global method is not yet implemented.\")\n",
    "\n"
   ]
  },
  {
   "cell_type": "code",
   "execution_count": 1,
   "metadata": {},
   "outputs": [
    {
     "ename": "NameError",
     "evalue": "name 'client' is not defined",
     "output_type": "error",
     "traceback": [
      "\u001b[0;31m---------------------------------------------------------------------------\u001b[0m",
      "\u001b[0;31mNameError\u001b[0m                                 Traceback (most recent call last)",
      "Cell \u001b[0;32mIn[1], line 1\u001b[0m\n\u001b[0;32m----> 1\u001b[0m \u001b[43mclient\u001b[49m\u001b[38;5;241m.\u001b[39mclose()\n\u001b[1;32m      2\u001b[0m cluster\u001b[38;5;241m.\u001b[39mclose()\n",
      "\u001b[0;31mNameError\u001b[0m: name 'client' is not defined"
     ]
    }
   ],
   "source": [
    "client.close()\n",
    "cluster.close()"
   ]
  },
  {
   "cell_type": "code",
   "execution_count": null,
   "metadata": {},
   "outputs": [],
   "source": []
  }
 ],
 "metadata": {
  "kernelspec": {
   "display_name": "ExtremesEnv2",
   "language": "python",
   "name": "python3"
  },
  "language_info": {
   "codemirror_mode": {
    "name": "ipython",
    "version": 3
   },
   "file_extension": ".py",
   "mimetype": "text/x-python",
   "name": "python",
   "nbconvert_exporter": "python",
   "pygments_lexer": "ipython3",
   "version": "3.12.2"
  }
 },
 "nbformat": 4,
 "nbformat_minor": 2
}
