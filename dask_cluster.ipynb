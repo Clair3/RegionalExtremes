{
 "cells": [
  {
   "cell_type": "code",
   "execution_count": 1,
   "metadata": {},
   "outputs": [],
   "source": [
    "import sys\n",
    "sys.path.append('/Net/Groups/BGI/scratch/crobin/PythonProjects/ExtremesProject/RegionalExtremesPackage')\n",
    "\n",
    "from main import parser_arguments, regional_extremes_method, local_extremes_method, regional_extremes_minicube"
   ]
  },
  {
   "cell_type": "code",
   "execution_count": 2,
   "metadata": {},
   "outputs": [],
   "source": [
    "import numpy as np\n",
    "from dask_jobqueue import SLURMCluster\n",
    "from dask.distributed import Client as daskClient"
   ]
  },
  {
   "cell_type": "code",
   "execution_count": 3,
   "metadata": {},
   "outputs": [
    {
     "name": "stderr",
     "output_type": "stream",
     "text": [
      "/Net/Groups/BGI/scratch/crobin/miniconda3/envs/ExtremesEnv2/lib/python3.12/site-packages/distributed/node.py:187: UserWarning: Port 8787 is already in use.\n",
      "Perhaps you already have a cluster running?\n",
      "Hosting the HTTP server on port 38153 instead\n",
      "  warnings.warn(\n"
     ]
    },
    {
     "data": {
      "text/html": [
       "<div class=\"jp-RenderedHTMLCommon jp-RenderedHTML jp-mod-trusted jp-OutputArea-output\">\n",
       "    <div style=\"width: 24px; height: 24px; background-color: #e1e1e1; border: 3px solid #9D9D9D; border-radius: 5px; position: absolute;\">\n",
       "    </div>\n",
       "    <div style=\"margin-left: 48px;\">\n",
       "        <h3 style=\"margin-bottom: 0px; margin-top: 0px;\">SLURMCluster</h3>\n",
       "        <p style=\"color: #9D9D9D; margin-bottom: 0px;\">f3137a58</p>\n",
       "        <table style=\"width: 100%; text-align: left;\">\n",
       "            <tr>\n",
       "                <td style=\"text-align: left;\">\n",
       "                    <strong>Dashboard:</strong> <a href=\"http://10.0.30.56:38153/status\" target=\"_blank\">http://10.0.30.56:38153/status</a>\n",
       "                </td>\n",
       "                <td style=\"text-align: left;\">\n",
       "                    <strong>Workers:</strong> 0\n",
       "                </td>\n",
       "            </tr>\n",
       "            <tr>\n",
       "                <td style=\"text-align: left;\">\n",
       "                    <strong>Total threads:</strong> 0\n",
       "                </td>\n",
       "                <td style=\"text-align: left;\">\n",
       "                    <strong>Total memory:</strong> 0 B\n",
       "                </td>\n",
       "            </tr>\n",
       "            \n",
       "        </table>\n",
       "\n",
       "        <details>\n",
       "            <summary style=\"margin-bottom: 20px;\">\n",
       "                <h3 style=\"display: inline;\">Scheduler Info</h3>\n",
       "            </summary>\n",
       "\n",
       "            <div style=\"\">\n",
       "    <div>\n",
       "        <div style=\"width: 24px; height: 24px; background-color: #FFF7E5; border: 3px solid #FF6132; border-radius: 5px; position: absolute;\"> </div>\n",
       "        <div style=\"margin-left: 48px;\">\n",
       "            <h3 style=\"margin-bottom: 0px;\">Scheduler</h3>\n",
       "            <p style=\"color: #9D9D9D; margin-bottom: 0px;\">Scheduler-95cc1900-9488-4813-a707-fe09d8bf0e34</p>\n",
       "            <table style=\"width: 100%; text-align: left;\">\n",
       "                <tr>\n",
       "                    <td style=\"text-align: left;\">\n",
       "                        <strong>Comm:</strong> tcp://10.0.30.56:43465\n",
       "                    </td>\n",
       "                    <td style=\"text-align: left;\">\n",
       "                        <strong>Workers:</strong> 0\n",
       "                    </td>\n",
       "                </tr>\n",
       "                <tr>\n",
       "                    <td style=\"text-align: left;\">\n",
       "                        <strong>Dashboard:</strong> <a href=\"http://10.0.30.56:38153/status\" target=\"_blank\">http://10.0.30.56:38153/status</a>\n",
       "                    </td>\n",
       "                    <td style=\"text-align: left;\">\n",
       "                        <strong>Total threads:</strong> 0\n",
       "                    </td>\n",
       "                </tr>\n",
       "                <tr>\n",
       "                    <td style=\"text-align: left;\">\n",
       "                        <strong>Started:</strong> Just now\n",
       "                    </td>\n",
       "                    <td style=\"text-align: left;\">\n",
       "                        <strong>Total memory:</strong> 0 B\n",
       "                    </td>\n",
       "                </tr>\n",
       "            </table>\n",
       "        </div>\n",
       "    </div>\n",
       "\n",
       "    <details style=\"margin-left: 48px;\">\n",
       "        <summary style=\"margin-bottom: 20px;\">\n",
       "            <h3 style=\"display: inline;\">Workers</h3>\n",
       "        </summary>\n",
       "\n",
       "        \n",
       "\n",
       "    </details>\n",
       "</div>\n",
       "\n",
       "        </details>\n",
       "    </div>\n",
       "</div>"
      ],
      "text/plain": [
       "SLURMCluster(f3137a58, 'tcp://10.0.30.56:43465', workers=0, threads=0, memory=0 B)"
      ]
     },
     "metadata": {},
     "output_type": "display_data"
    }
   ],
   "source": [
    "cluster = SLURMCluster(\n",
    "    queue='work',                  # Specify the SLURM queue\n",
    "    processes=1,                     # Number of processes per job\n",
    "    cores=1,                          # Number of cores per job\n",
    "    memory='50GB',                    # Memory per job\n",
    "    walltime='15:00:00',              # Job duration (hh:mm:ss)\n",
    "    job_script_prologue=[\n",
    "        'module load BGC-easybuilded',\n",
    "        'module load  GCC',\n",
    "    ]\n",
    ")\n",
    "\n",
    "# Scale up the number of workers\n",
    "# cluster.scale(jobs=20)  # Adjust the number of jobs/workers\n",
    "cluster.adapt(minimum=0, maximum=100)\n",
    "\n",
    "# Create a Dask client that connects to the cluster\n",
    "client = daskClient(cluster)\n",
    "\n",
    "# Check cluster status\n",
    "cluster"
   ]
  },
  {
   "cell_type": "code",
   "execution_count": 4,
   "metadata": {},
   "outputs": [
    {
     "data": {
      "text/plain": [
       "Namespace(id=None, name=None, index='pei_180', compute_variance=False, region='globe', time_resolution=5, n_components=3, n_samples=100, n_bins=25, kernel_pca=False, saving_path=None, path_load_experiment=None, method='regional')"
      ]
     },
     "execution_count": 4,
     "metadata": {},
     "output_type": "execute_result"
    }
   ],
   "source": [
    "import sys\n",
    "import argparse\n",
    "\n",
    "# Remove Jupyter's arguments before parsing your own\n",
    "sys.argv = sys.argv[:1]\n",
    "\n",
    "\n",
    "args = parser_arguments().parse_args()\n",
    "args"
   ]
  },
  {
   "cell_type": "code",
   "execution_count": null,
   "metadata": {},
   "outputs": [
    {
     "name": "stdout",
     "output_type": "stream",
     "text": [
      "[2024-12-12 16:16:09] Loading of the model path: /Net/Groups/BGI/scratch/crobin/PythonProjects/ExtremesProject/RegionalExtremesPackage/experiments/2024-12-12_11:52:00_deep_extreme_HR\n",
      "[2024-12-12 16:16:16] Projection loaded from /Net/Groups/BGI/scratch/crobin/PythonProjects/ExtremesProject/RegionalExtremesPackage/experiments/2024-12-12_11:52:00_deep_extreme_HR/EVI_EN/pca_projection_0.zarr\n",
      "[2024-12-12 16:16:16] Limits bins loaded.\n",
      "[2024-12-12 16:16:16] Bins loaded.\n",
      "[2024-12-12 16:16:16] The file /Net/Groups/BGI/scratch/crobin/PythonProjects/ExtremesProject/RegionalExtremesPackage/experiments/2024-12-12_11:52:00_deep_extreme_HR/EVI_EN/thresholds.zarr not found.\n",
      "[2024-12-12 16:16:16] start of the preprocess\n",
      "[2024-12-12 16:16:19] Computation on the entire dataset. 16384 samples\n",
      "[2024-12-12 16:17:14] msc computed and saved.\n",
      "[2024-12-12 16:17:14] Data are projected in the feature space.\n",
      "[2024-12-12 16:17:14] PCA Projection computed and saved to /Net/Groups/BGI/scratch/crobin/PythonProjects/ExtremesProject/RegionalExtremesPackage/experiments/2024-12-12_11:52:00_deep_extreme_HR/EVI_EN/mc_25.61_44.32_1.3_20231018_0/pca_projection_0.zarr.\n",
      "[2024-12-12 16:17:14] bins computed and saved.\n"
     ]
    }
   ],
   "source": [
    "import numpy as np \n",
    "\n",
    "# Remove Jupyter's arguments before parsing your own\n",
    "sys.argv = sys.argv[:1]\n",
    "args = parser_arguments().parse_args()\n",
    "args.name = \"deep_extreme_HR\"\n",
    "args.index = \"EVI_EN\"\n",
    "args.k_pca = False\n",
    "args.n_samples = 20000\n",
    "args.n_components = 3\n",
    "args.n_bins = 50\n",
    "args.compute_variance = False\n",
    "args.method = \"regional\"\n",
    "args.start_year = 2000\n",
    "args.is_generic_xarray_dataset = False\n",
    "\n",
    "args.path_load_experiment = \"/Net/Groups/BGI/scratch/crobin/PythonProjects/ExtremesProject/RegionalExtremesPackage/experiments/2024-12-12_11:52:00_deep_extreme_HR\"\n",
    "\n",
    "LOWER_QUANTILES_LEVEL = np.array([0.01, 0.025, 0.05])\n",
    "UPPER_QUANTILES_LEVEL = np.array([0.95, 0.975, 0.99])\n",
    "if args.method == \"regional\":\n",
    "    # Apply the regional extremes method\n",
    "    # regional_extremes_method(args, (LOWER_QUANTILES_LEVEL, UPPER_QUANTILES_LEVEL))\n",
    "    regional_extremes_minicube(args, (LOWER_QUANTILES_LEVEL, UPPER_QUANTILES_LEVEL))\n",
    "elif args.method == \"local\":\n",
    "    # Apply the uniform threshold method\n",
    "    local_extremes_method(args, (LOWER_QUANTILES_LEVEL, UPPER_QUANTILES_LEVEL))\n",
    "elif args.method == \"global\":\n",
    "    raise NotImplementedError(\"the global method is not yet implemented.\")\n",
    "\n"
   ]
  },
  {
   "cell_type": "markdown",
   "metadata": {},
   "source": []
  },
  {
   "cell_type": "code",
   "execution_count": 7,
   "metadata": {},
   "outputs": [],
   "source": [
    "client.close()\n",
    "cluster.close()"
   ]
  },
  {
   "cell_type": "code",
   "execution_count": null,
   "metadata": {},
   "outputs": [],
   "source": []
  }
 ],
 "metadata": {
  "kernelspec": {
   "display_name": "ExtremesEnv2",
   "language": "python",
   "name": "python3"
  },
  "language_info": {
   "codemirror_mode": {
    "name": "ipython",
    "version": 3
   },
   "file_extension": ".py",
   "mimetype": "text/x-python",
   "name": "python",
   "nbconvert_exporter": "python",
   "pygments_lexer": "ipython3",
   "version": "3.12.2"
  }
 },
 "nbformat": 4,
 "nbformat_minor": 2
}
